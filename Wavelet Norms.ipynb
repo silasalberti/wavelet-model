{
 "cells": [
  {
   "cell_type": "code",
   "execution_count": 1,
   "id": "8c7bb1b9-17d1-474c-9446-a3245dd5d5c1",
   "metadata": {},
   "outputs": [],
   "source": [
    "import torch\n",
    "import numpy as np\n",
    "import matplotlib.pyplot as plt"
   ]
  },
  {
   "cell_type": "code",
   "execution_count": 2,
   "id": "573ae023-1741-4af0-96fa-74659ce0e0dd",
   "metadata": {},
   "outputs": [],
   "source": [
    "from tqdm import tqdm"
   ]
  },
  {
   "cell_type": "markdown",
   "id": "fac7d854-58a3-4a61-a387-cee23fe1cd50",
   "metadata": {
    "tags": []
   },
   "source": [
    "## Haar wavelets"
   ]
  },
  {
   "cell_type": "code",
   "execution_count": 3,
   "id": "1c3a4b9f-f3e1-4cf2-8c13-101c31e111ce",
   "metadata": {},
   "outputs": [],
   "source": [
    "def haar_matrix(j: int, shift: int = 0):\n",
    "    \"\"\"Unnormalized Haar wavelet basis of size 2^j, shifted by shift\"\"\"\n",
    "    H = torch.zeros(2**j, 2**j)\n",
    "    n = 1\n",
    "    H[0] = torch.ones(2**j)\n",
    "    for k in range(j,0,-1):\n",
    "        for i in range(2**(j-k)):\n",
    "            H[n+i,i*2**k:i*2**k+2**(k-1)] = torch.ones(2**(k-1))\n",
    "            H[n+i,i*2**k+2**(k-1):(i+1)*2**k] = -torch.ones(2**(k-1))\n",
    "        n = n+i+1\n",
    "    return H.roll(shift, dims=1)"
   ]
  },
  {
   "cell_type": "code",
   "execution_count": 4,
   "id": "28ad27ab-8d63-4530-9035-860fd44bc407",
   "metadata": {},
   "outputs": [],
   "source": [
    "def norm_haar_matrix(j: int, shift: int = 0):\n",
    "    \"\"\"Normalized Haar wavelet basis of size 2^j\"\"\"\n",
    "    H = haar_matrix(j, shift)\n",
    "    return H/torch.norm(H, dim=1).unsqueeze(1)"
   ]
  },
  {
   "cell_type": "code",
   "execution_count": 5,
   "id": "1c1971d8-20a2-418e-9f34-492e8f23c025",
   "metadata": {},
   "outputs": [],
   "source": [
    "def norm_vec(j: int, n: int):\n",
    "    \"\"\" n normed gaussian vector, shape (2**j, n)\"\"\"\n",
    "    v = torch.randn(2**j, n)\n",
    "    return v/torch.norm(v, dim=0).unsqueeze(0)"
   ]
  },
  {
   "cell_type": "code",
   "execution_count": 6,
   "id": "7a471b24-b312-4e35-a9c5-0ec7af66adab",
   "metadata": {},
   "outputs": [],
   "source": [
    "def one_vec(j: int, n: int):\n",
    "    \"\"\" n vectors being 1 in one of the top n frequencies, shape (2**j, n)\"\"\"\n",
    "    v = torch.zeros(2**j, n)\n",
    "    for i in range(n):\n",
    "        v[i, i] = 1\n",
    "    return v"
   ]
  },
  {
   "cell_type": "markdown",
   "id": "13422925-3273-499a-b8c0-90ee44f998d3",
   "metadata": {
    "tags": []
   },
   "source": [
    "## Regular norm"
   ]
  },
  {
   "cell_type": "code",
   "execution_count": 7,
   "id": "ca0af4db-40d7-4b78-a54b-771e95fdf873",
   "metadata": {},
   "outputs": [],
   "source": [
    "j = 5"
   ]
  },
  {
   "cell_type": "code",
   "execution_count": 8,
   "id": "4bf2e07d-c929-44fa-aa12-50d268c621b0",
   "metadata": {
    "collapsed": true,
    "jupyter": {
     "outputs_hidden": true
    },
    "tags": []
   },
   "outputs": [
    {
     "name": "stderr",
     "output_type": "stream",
     "text": [
      "100%|██████████| 32/32 [00:00<00:00, 507.90it/s]"
     ]
    },
    {
     "name": "stdout",
     "output_type": "stream",
     "text": [
      "tensor([1.0000, 1.0000, 1.0000, 1.0000, 1.0000, 1.0000, 1.0000, 1.0000, 1.0000])\n",
      "tensor([1.0000, 1.0000, 1.0000, 1.0000, 1.0000, 1.0000, 1.0000, 1.0000, 1.0000])\n",
      "tensor([1.0000, 1.0000, 1.0000, 1.0000, 1.0000, 1.0000, 1.0000, 1.0000, 1.0000])\n",
      "tensor([1.0000, 1.0000, 1.0000, 1.0000, 1.0000, 1.0000, 1.0000, 1.0000, 1.0000])\n",
      "tensor([1.0000, 1.0000, 1.0000, 1.0000, 1.0000, 1.0000, 1.0000, 1.0000, 1.0000])\n",
      "tensor([1.0000, 1.0000, 1.0000, 1.0000, 1.0000, 1.0000, 1.0000, 1.0000, 1.0000])\n",
      "tensor([1.0000, 1.0000, 1.0000, 1.0000, 1.0000, 1.0000, 1.0000, 1.0000, 1.0000])\n",
      "tensor([1.0000, 1.0000, 1.0000, 1.0000, 1.0000, 1.0000, 1.0000, 1.0000, 1.0000])\n",
      "tensor([1.0000, 1.0000, 1.0000, 1.0000, 1.0000, 1.0000, 1.0000, 1.0000, 1.0000])\n",
      "tensor([1.0000, 1.0000, 1.0000, 1.0000, 1.0000, 1.0000, 1.0000, 1.0000, 1.0000])\n",
      "tensor([1.0000, 1.0000, 1.0000, 1.0000, 1.0000, 1.0000, 1.0000, 1.0000, 1.0000])\n",
      "tensor([1.0000, 1.0000, 1.0000, 1.0000, 1.0000, 1.0000, 1.0000, 1.0000, 1.0000])\n",
      "tensor([1.0000, 1.0000, 1.0000, 1.0000, 1.0000, 1.0000, 1.0000, 1.0000, 1.0000])\n",
      "tensor([1.0000, 1.0000, 1.0000, 1.0000, 1.0000, 1.0000, 1.0000, 1.0000, 1.0000])\n",
      "tensor([1.0000, 1.0000, 1.0000, 1.0000, 1.0000, 1.0000, 1.0000, 1.0000, 1.0000])\n",
      "tensor([1.0000, 1.0000, 1.0000, 1.0000, 1.0000, 1.0000, 1.0000, 1.0000, 1.0000])\n",
      "tensor([1.0000, 1.0000, 1.0000, 1.0000, 1.0000, 1.0000, 1.0000, 1.0000, 1.0000])\n",
      "tensor([1.0000, 1.0000, 1.0000, 1.0000, 1.0000, 1.0000, 1.0000, 1.0000, 1.0000])\n",
      "tensor([1.0000, 1.0000, 1.0000, 1.0000, 1.0000, 1.0000, 1.0000, 1.0000, 1.0000])\n",
      "tensor([1.0000, 1.0000, 1.0000, 1.0000, 1.0000, 1.0000, 1.0000, 1.0000, 1.0000])\n",
      "tensor([1.0000, 1.0000, 1.0000, 1.0000, 1.0000, 1.0000, 1.0000, 1.0000, 1.0000])\n",
      "tensor([1.0000, 1.0000, 1.0000, 1.0000, 1.0000, 1.0000, 1.0000, 1.0000, 1.0000])\n",
      "tensor([1.0000, 1.0000, 1.0000, 1.0000, 1.0000, 1.0000, 1.0000, 1.0000, 1.0000])\n",
      "tensor([1.0000, 1.0000, 1.0000, 1.0000, 1.0000, 1.0000, 1.0000, 1.0000, 1.0000])\n",
      "tensor([1.0000, 1.0000, 1.0000, 1.0000, 1.0000, 1.0000, 1.0000, 1.0000, 1.0000])\n",
      "tensor([1.0000, 1.0000, 1.0000, 1.0000, 1.0000, 1.0000, 1.0000, 1.0000, 1.0000])\n",
      "tensor([1.0000, 1.0000, 1.0000, 1.0000, 1.0000, 1.0000, 1.0000, 1.0000, 1.0000])\n",
      "tensor([1.0000, 1.0000, 1.0000, 1.0000, 1.0000, 1.0000, 1.0000, 1.0000, 1.0000])\n",
      "tensor([1.0000, 1.0000, 1.0000, 1.0000, 1.0000, 1.0000, 1.0000, 1.0000, 1.0000])\n",
      "tensor([1.0000, 1.0000, 1.0000, 1.0000, 1.0000, 1.0000, 1.0000, 1.0000, 1.0000])\n",
      "tensor([1.0000, 1.0000, 1.0000, 1.0000, 1.0000, 1.0000, 1.0000, 1.0000, 1.0000])\n",
      "tensor([1.0000, 1.0000, 1.0000, 1.0000, 1.0000, 1.0000, 1.0000, 1.0000, 1.0000])\n"
     ]
    },
    {
     "name": "stderr",
     "output_type": "stream",
     "text": [
      "\n"
     ]
    }
   ],
   "source": [
    "v = norm_vec(j, 9)\n",
    "for shift in tqdm(range(2**j)):\n",
    "    pixel = torch.einsum(\"a b, b n -> a n\", norm_haar_matrix(j, 0).T, v)\n",
    "    print(torch.norm(torch.einsum(\"a b, b n -> n a\", norm_haar_matrix(j, shift), pixel), dim=1))"
   ]
  },
  {
   "cell_type": "code",
   "execution_count": 9,
   "id": "f94f7ca2-a93e-45b1-be39-2a00a92425fc",
   "metadata": {
    "collapsed": true,
    "jupyter": {
     "outputs_hidden": true
    },
    "tags": []
   },
   "outputs": [
    {
     "name": "stdout",
     "output_type": "stream",
     "text": [
      "tensor([1.0000, 1.0000, 1.0000, 1.0000, 1.0000, 1.0000, 1.0000, 1.0000, 1.0000])\n",
      "tensor([1.0000, 1.0000, 1.0000, 1.0000, 1.0000, 1.0000, 1.0000, 1.0000, 1.0000])\n",
      "tensor([1.0000, 1.0000, 1.0000, 1.0000, 1.0000, 1.0000, 1.0000, 1.0000, 1.0000])\n",
      "tensor([1.0000, 1.0000, 1.0000, 1.0000, 1.0000, 1.0000, 1.0000, 1.0000, 1.0000])\n",
      "tensor([1.0000, 1.0000, 1.0000, 1.0000, 1.0000, 1.0000, 1.0000, 1.0000, 1.0000])\n",
      "tensor([1.0000, 1.0000, 1.0000, 1.0000, 1.0000, 1.0000, 1.0000, 1.0000, 1.0000])\n",
      "tensor([1.0000, 1.0000, 1.0000, 1.0000, 1.0000, 1.0000, 1.0000, 1.0000, 1.0000])\n",
      "tensor([1.0000, 1.0000, 1.0000, 1.0000, 1.0000, 1.0000, 1.0000, 1.0000, 1.0000])\n",
      "tensor([1.0000, 1.0000, 1.0000, 1.0000, 1.0000, 1.0000, 1.0000, 1.0000, 1.0000])\n",
      "tensor([1.0000, 1.0000, 1.0000, 1.0000, 1.0000, 1.0000, 1.0000, 1.0000, 1.0000])\n",
      "tensor([1.0000, 1.0000, 1.0000, 1.0000, 1.0000, 1.0000, 1.0000, 1.0000, 1.0000])\n",
      "tensor([1.0000, 1.0000, 1.0000, 1.0000, 1.0000, 1.0000, 1.0000, 1.0000, 1.0000])\n",
      "tensor([1.0000, 1.0000, 1.0000, 1.0000, 1.0000, 1.0000, 1.0000, 1.0000, 1.0000])\n",
      "tensor([1.0000, 1.0000, 1.0000, 1.0000, 1.0000, 1.0000, 1.0000, 1.0000, 1.0000])\n",
      "tensor([1.0000, 1.0000, 1.0000, 1.0000, 1.0000, 1.0000, 1.0000, 1.0000, 1.0000])\n",
      "tensor([1.0000, 1.0000, 1.0000, 1.0000, 1.0000, 1.0000, 1.0000, 1.0000, 1.0000])\n",
      "tensor([1.0000, 1.0000, 1.0000, 1.0000, 1.0000, 1.0000, 1.0000, 1.0000, 1.0000])\n",
      "tensor([1.0000, 1.0000, 1.0000, 1.0000, 1.0000, 1.0000, 1.0000, 1.0000, 1.0000])\n",
      "tensor([1.0000, 1.0000, 1.0000, 1.0000, 1.0000, 1.0000, 1.0000, 1.0000, 1.0000])\n",
      "tensor([1.0000, 1.0000, 1.0000, 1.0000, 1.0000, 1.0000, 1.0000, 1.0000, 1.0000])\n",
      "tensor([1.0000, 1.0000, 1.0000, 1.0000, 1.0000, 1.0000, 1.0000, 1.0000, 1.0000])\n",
      "tensor([1.0000, 1.0000, 1.0000, 1.0000, 1.0000, 1.0000, 1.0000, 1.0000, 1.0000])\n",
      "tensor([1.0000, 1.0000, 1.0000, 1.0000, 1.0000, 1.0000, 1.0000, 1.0000, 1.0000])\n",
      "tensor([1.0000, 1.0000, 1.0000, 1.0000, 1.0000, 1.0000, 1.0000, 1.0000, 1.0000])\n",
      "tensor([1.0000, 1.0000, 1.0000, 1.0000, 1.0000, 1.0000, 1.0000, 1.0000, 1.0000])\n",
      "tensor([1.0000, 1.0000, 1.0000, 1.0000, 1.0000, 1.0000, 1.0000, 1.0000, 1.0000])\n",
      "tensor([1.0000, 1.0000, 1.0000, 1.0000, 1.0000, 1.0000, 1.0000, 1.0000, 1.0000])\n",
      "tensor([1.0000, 1.0000, 1.0000, 1.0000, 1.0000, 1.0000, 1.0000, 1.0000, 1.0000])\n",
      "tensor([1.0000, 1.0000, 1.0000, 1.0000, 1.0000, 1.0000, 1.0000, 1.0000, 1.0000])\n",
      "tensor([1.0000, 1.0000, 1.0000, 1.0000, 1.0000, 1.0000, 1.0000, 1.0000, 1.0000])\n",
      "tensor([1.0000, 1.0000, 1.0000, 1.0000, 1.0000, 1.0000, 1.0000, 1.0000, 1.0000])\n",
      "tensor([1.0000, 1.0000, 1.0000, 1.0000, 1.0000, 1.0000, 1.0000, 1.0000, 1.0000])\n"
     ]
    }
   ],
   "source": [
    "v = one_vec(j, 9)\n",
    "for shift in range(2**j):\n",
    "    pixel = torch.einsum(\"a b, b n -> a n\", norm_haar_matrix(j, 0).T, v)\n",
    "    print(torch.norm(torch.einsum(\"a b, b n -> n a\", norm_haar_matrix(j, shift), pixel), dim=1))"
   ]
  },
  {
   "cell_type": "markdown",
   "id": "571b9932-9442-4dbd-aacb-138b58ece669",
   "metadata": {
    "tags": []
   },
   "source": [
    "## Frequency aware norm"
   ]
  },
  {
   "cell_type": "code",
   "execution_count": 79,
   "id": "4987b4ca-08b4-4251-9a15-65e5bfc6e150",
   "metadata": {
    "tags": []
   },
   "outputs": [],
   "source": [
    "j = 13"
   ]
  },
  {
   "cell_type": "code",
   "execution_count": 80,
   "id": "7ec587e0-6801-467c-a4d7-e197b7d88844",
   "metadata": {},
   "outputs": [],
   "source": [
    "def frequency_aware_norm(haar_representation: torch.Tensor, j: int):\n",
    "    n = 2\n",
    "    for i in range(1,j):\n",
    "        for k in range(2**i):\n",
    "            haar_representation[n+k] /= 2**i\n",
    "        n = n+k+1\n",
    "    return torch.norm(haar_representation, dim=0)"
   ]
  },
  {
   "cell_type": "code",
   "execution_count": 76,
   "id": "8debde8d-4d99-4e1c-8be5-910e95f04403",
   "metadata": {
    "tags": []
   },
   "outputs": [
    {
     "name": "stderr",
     "output_type": "stream",
     "text": [
      "100%|██████████| 1024/1024 [00:09<00:00, 106.15it/s]\n"
     ]
    }
   ],
   "source": [
    "v = norm_vec(j, 129)\n",
    "norms1 = torch.zeros(2**j, 129)\n",
    "H = norm_haar_matrix(j,0)\n",
    "for shift in tqdm(range(2**j)):\n",
    "    pixel = torch.einsum(\"a b, b n -> a n\", H.T, v)\n",
    "    haar_representation = torch.einsum(\"a b, b n -> a n\", H.roll(shift, dims=1), pixel)\n",
    "    norms1[shift] = frequency_aware_norm(haar_representation, j)"
   ]
  },
  {
   "cell_type": "code",
   "execution_count": 81,
   "id": "74c9e38e-3690-4d22-801d-838a7f3813c1",
   "metadata": {
    "collapsed": true,
    "jupyter": {
     "outputs_hidden": true
    },
    "tags": []
   },
   "outputs": [
    {
     "name": "stderr",
     "output_type": "stream",
     "text": [
      " 30%|██▉       | 2428/8192 [14:25:10<34:13:52, 21.38s/it]  \n"
     ]
    },
    {
     "ename": "KeyboardInterrupt",
     "evalue": "",
     "output_type": "error",
     "traceback": [
      "\u001b[0;31m---------------------------------------------------------------------------\u001b[0m",
      "\u001b[0;31mKeyboardInterrupt\u001b[0m                         Traceback (most recent call last)",
      "\u001b[0;32m<ipython-input-81-2a912a85a0e8>\u001b[0m in \u001b[0;36m<module>\u001b[0;34m\u001b[0m\n\u001b[1;32m      3\u001b[0m \u001b[0mH\u001b[0m \u001b[0;34m=\u001b[0m \u001b[0mnorm_haar_matrix\u001b[0m\u001b[0;34m(\u001b[0m\u001b[0mj\u001b[0m\u001b[0;34m,\u001b[0m\u001b[0;36m0\u001b[0m\u001b[0;34m)\u001b[0m\u001b[0;34m\u001b[0m\u001b[0;34m\u001b[0m\u001b[0m\n\u001b[1;32m      4\u001b[0m \u001b[0;32mfor\u001b[0m \u001b[0mshift\u001b[0m \u001b[0;32min\u001b[0m \u001b[0mtqdm\u001b[0m\u001b[0;34m(\u001b[0m\u001b[0mrange\u001b[0m\u001b[0;34m(\u001b[0m\u001b[0;36m2\u001b[0m\u001b[0;34m**\u001b[0m\u001b[0mj\u001b[0m\u001b[0;34m)\u001b[0m\u001b[0;34m)\u001b[0m\u001b[0;34m:\u001b[0m\u001b[0;34m\u001b[0m\u001b[0;34m\u001b[0m\u001b[0m\n\u001b[0;32m----> 5\u001b[0;31m     \u001b[0mpixel\u001b[0m \u001b[0;34m=\u001b[0m \u001b[0mtorch\u001b[0m\u001b[0;34m.\u001b[0m\u001b[0meinsum\u001b[0m\u001b[0;34m(\u001b[0m\u001b[0;34m\"a b, b n -> a n\"\u001b[0m\u001b[0;34m,\u001b[0m \u001b[0mH\u001b[0m\u001b[0;34m.\u001b[0m\u001b[0mT\u001b[0m\u001b[0;34m,\u001b[0m \u001b[0mv\u001b[0m\u001b[0;34m)\u001b[0m\u001b[0;34m\u001b[0m\u001b[0;34m\u001b[0m\u001b[0m\n\u001b[0m\u001b[1;32m      6\u001b[0m     \u001b[0mhaar_representation\u001b[0m \u001b[0;34m=\u001b[0m \u001b[0mtorch\u001b[0m\u001b[0;34m.\u001b[0m\u001b[0meinsum\u001b[0m\u001b[0;34m(\u001b[0m\u001b[0;34m\"a b, b n -> a n\"\u001b[0m\u001b[0;34m,\u001b[0m \u001b[0mH\u001b[0m\u001b[0;34m.\u001b[0m\u001b[0mroll\u001b[0m\u001b[0;34m(\u001b[0m\u001b[0mshift\u001b[0m\u001b[0;34m,\u001b[0m \u001b[0mdims\u001b[0m\u001b[0;34m=\u001b[0m\u001b[0;36m1\u001b[0m\u001b[0;34m)\u001b[0m\u001b[0;34m,\u001b[0m \u001b[0mpixel\u001b[0m\u001b[0;34m)\u001b[0m\u001b[0;34m\u001b[0m\u001b[0;34m\u001b[0m\u001b[0m\n\u001b[1;32m      7\u001b[0m     \u001b[0mnorms2\u001b[0m\u001b[0;34m[\u001b[0m\u001b[0mshift\u001b[0m\u001b[0;34m]\u001b[0m \u001b[0;34m=\u001b[0m \u001b[0mfrequency_aware_norm\u001b[0m\u001b[0;34m(\u001b[0m\u001b[0mhaar_representation\u001b[0m\u001b[0;34m,\u001b[0m \u001b[0mj\u001b[0m\u001b[0;34m)\u001b[0m\u001b[0;34m\u001b[0m\u001b[0;34m\u001b[0m\u001b[0m\n",
      "\u001b[0;32m/opt/anaconda3/lib/python3.8/site-packages/torch/functional.py\u001b[0m in \u001b[0;36meinsum\u001b[0;34m(*args)\u001b[0m\n\u001b[1;32m    325\u001b[0m         \u001b[0;32mreturn\u001b[0m \u001b[0meinsum\u001b[0m\u001b[0;34m(\u001b[0m\u001b[0mequation\u001b[0m\u001b[0;34m,\u001b[0m \u001b[0;34m*\u001b[0m\u001b[0m_operands\u001b[0m\u001b[0;34m)\u001b[0m\u001b[0;34m\u001b[0m\u001b[0;34m\u001b[0m\u001b[0m\n\u001b[1;32m    326\u001b[0m \u001b[0;34m\u001b[0m\u001b[0m\n\u001b[0;32m--> 327\u001b[0;31m     \u001b[0;32mreturn\u001b[0m \u001b[0m_VF\u001b[0m\u001b[0;34m.\u001b[0m\u001b[0meinsum\u001b[0m\u001b[0;34m(\u001b[0m\u001b[0mequation\u001b[0m\u001b[0;34m,\u001b[0m \u001b[0moperands\u001b[0m\u001b[0;34m)\u001b[0m  \u001b[0;31m# type: ignore[attr-defined]\u001b[0m\u001b[0;34m\u001b[0m\u001b[0;34m\u001b[0m\u001b[0m\n\u001b[0m\u001b[1;32m    328\u001b[0m \u001b[0;34m\u001b[0m\u001b[0m\n\u001b[1;32m    329\u001b[0m \u001b[0;34m\u001b[0m\u001b[0m\n",
      "\u001b[0;31mKeyboardInterrupt\u001b[0m: "
     ]
    }
   ],
   "source": [
    "v = one_vec(j, 129)\n",
    "norms2 = torch.zeros(2**j, 129)\n",
    "H = norm_haar_matrix(j,0)\n",
    "for shift in tqdm(range(2**j)):\n",
    "    pixel = torch.einsum(\"a b, b n -> a n\", H.T, v)\n",
    "    haar_representation = torch.einsum(\"a b, b n -> a n\", H.roll(shift, dims=1), pixel)\n",
    "    norms2[shift] = frequency_aware_norm(haar_representation, j)"
   ]
  },
  {
   "cell_type": "markdown",
   "id": "bc119648-725b-489d-af44-b6397555961f",
   "metadata": {},
   "source": [
    "## j = 10, n = 9"
   ]
  },
  {
   "cell_type": "code",
   "execution_count": 72,
   "id": "10a1e486-241e-4b05-89f5-40c06bf1bf74",
   "metadata": {},
   "outputs": [
    {
     "data": {
      "text/plain": [
       "tensor([2.4791, 1.8560, 1.4794, 1.5393, 1.8900, 1.3268, 1.8601, 2.4221, 1.9839])"
      ]
     },
     "execution_count": 72,
     "metadata": {},
     "output_type": "execute_result"
    }
   ],
   "source": [
    "norms1.max(dim=0).values/norms1.min(dim=0).values"
   ]
  },
  {
   "cell_type": "code",
   "execution_count": 19,
   "id": "18ef8bb2-72e7-431e-915c-d8308d43a992",
   "metadata": {},
   "outputs": [
    {
     "data": {
      "text/plain": [
       "tensor([1.0000, 2.1993, 2.0616, 2.0616, 3.0579, 3.0579, 3.0579, 3.0579, 4.4217])"
      ]
     },
     "execution_count": 19,
     "metadata": {},
     "output_type": "execute_result"
    }
   ],
   "source": [
    "norms2.max(dim=0).values/norms2.min(dim=0).values"
   ]
  },
  {
   "cell_type": "code",
   "execution_count": 78,
   "id": "2e1ef02e-8457-414b-a97f-e0f501bcceb7",
   "metadata": {},
   "outputs": [
    {
     "data": {
      "text/plain": [
       "tensor(1.8685)"
      ]
     },
     "execution_count": 78,
     "metadata": {},
     "output_type": "execute_result"
    }
   ],
   "source": [
    "(norms1.max(dim=0).values/norms1.min(dim=0).values).mean()"
   ]
  },
  {
   "cell_type": "markdown",
   "id": "d8d01e32-e24e-4525-8004-97b23fd6afcd",
   "metadata": {},
   "source": [
    "## j = 12, n = 33"
   ]
  },
  {
   "cell_type": "code",
   "execution_count": 36,
   "id": "9687c4ca-abbe-4f3b-b396-f3d1fdfce581",
   "metadata": {},
   "outputs": [],
   "source": [
    "norms1a = norms1\n",
    "norms2a = norms2"
   ]
  },
  {
   "cell_type": "code",
   "execution_count": 35,
   "id": "e69c36cc-ab12-4504-8924-28bf87510a22",
   "metadata": {},
   "outputs": [
    {
     "data": {
      "text/plain": [
       "tensor([1.5218, 2.6956, 2.4895, 2.2458, 1.3906, 3.0071, 1.6156, 1.5842, 2.7676,\n",
       "        2.2536, 2.7655, 2.4313, 2.1766, 1.4232, 2.0846, 2.5955, 2.1839, 2.1637,\n",
       "        1.9257, 1.5634, 1.2279, 2.6426, 1.9085, 1.7046, 2.9332, 2.3094, 1.4020,\n",
       "        2.9592, 2.2245, 1.5145, 2.0782, 2.1832, 1.5180])"
      ]
     },
     "execution_count": 35,
     "metadata": {},
     "output_type": "execute_result"
    }
   ],
   "source": [
    "norms1a.max(dim=0).values/norms1a.min(dim=0).values"
   ]
  },
  {
   "cell_type": "code",
   "execution_count": 58,
   "id": "881e8ba5-3086-4989-8ee2-76bd11d20781",
   "metadata": {},
   "outputs": [
    {
     "data": {
      "text/plain": [
       "tensor(1.2279)"
      ]
     },
     "execution_count": 58,
     "metadata": {},
     "output_type": "execute_result"
    }
   ],
   "source": [
    "(norms1a.max(dim=0).values/norms1a.min(dim=0).values).min()"
   ]
  },
  {
   "cell_type": "code",
   "execution_count": 69,
   "id": "fec76b32-4706-46e1-b6ea-ac6b4c238677",
   "metadata": {},
   "outputs": [
    {
     "data": {
      "text/plain": [
       "tensor(2.1058)"
      ]
     },
     "execution_count": 69,
     "metadata": {},
     "output_type": "execute_result"
    }
   ],
   "source": [
    "(norms1a.max(dim=0).values/norms1a.min(dim=0).values).mean()"
   ]
  },
  {
   "cell_type": "code",
   "execution_count": 59,
   "id": "87bb00db-1d44-4a20-a236-ddf8f1116e89",
   "metadata": {},
   "outputs": [
    {
     "data": {
      "text/plain": [
       "tensor(3.0071)"
      ]
     },
     "execution_count": 59,
     "metadata": {},
     "output_type": "execute_result"
    }
   ],
   "source": [
    "(norms1a.max(dim=0).values/norms1a.min(dim=0).values).max()"
   ]
  },
  {
   "cell_type": "code",
   "execution_count": 34,
   "id": "b27e6ca6-0aa7-4c23-9327-80b2c765ff31",
   "metadata": {},
   "outputs": [
    {
     "data": {
      "text/plain": [
       "tensor([1.0000, 2.1993, 2.0616, 2.0616, 3.0579, 3.0579, 3.0579, 3.0579, 4.4217,\n",
       "        4.4217, 4.4217, 4.4217, 4.4217, 4.4217, 4.4217, 4.4217, 6.3208, 6.3208,\n",
       "        6.3208, 6.3208, 6.3208, 6.3208, 6.3208, 6.3208, 6.3208, 6.3208, 6.3208,\n",
       "        6.3208, 6.3208, 6.3208, 6.3208, 6.3208, 8.9864])"
      ]
     },
     "execution_count": 34,
     "metadata": {},
     "output_type": "execute_result"
    }
   ],
   "source": [
    "norms2a.max(dim=0).values/norms2a.min(dim=0).values"
   ]
  },
  {
   "cell_type": "code",
   "execution_count": 65,
   "id": "fcbd59ea-8364-42e8-90dd-0c2b3df71552",
   "metadata": {},
   "outputs": [],
   "source": [
    "torch.save(norms1a, \"norms1a.pt\")"
   ]
  },
  {
   "cell_type": "code",
   "execution_count": 66,
   "id": "b348e159-e864-49f4-8003-7ad298069a60",
   "metadata": {},
   "outputs": [],
   "source": [
    "torch.save(norms2a, \"norms2a.pt\")"
   ]
  },
  {
   "cell_type": "markdown",
   "id": "bbb05d90-02e6-4817-9af3-4deb5bc0fb4e",
   "metadata": {},
   "source": [
    "## j = 13, n = 129"
   ]
  },
  {
   "cell_type": "code",
   "execution_count": 56,
   "id": "720cffdc-007a-45a5-9a27-0afd13895ace",
   "metadata": {},
   "outputs": [],
   "source": [
    "norms1b = norms1"
   ]
  },
  {
   "cell_type": "code",
   "execution_count": 82,
   "id": "1b54a7cd-9ca2-4333-9b0c-1531d6f52ff0",
   "metadata": {},
   "outputs": [],
   "source": [
    "norms2b = norms2"
   ]
  },
  {
   "cell_type": "code",
   "execution_count": 57,
   "id": "b35c8ec0-b872-4b8b-a825-32ca1314712b",
   "metadata": {},
   "outputs": [
    {
     "data": {
      "text/plain": [
       "tensor([2.0320, 1.6523, 2.2250, 2.0483, 2.6199, 2.9216, 2.2071, 2.9874, 2.5410,\n",
       "        1.7728, 2.1541, 1.4905, 2.3495, 2.2236, 1.9648, 2.5242, 1.2600, 2.1269,\n",
       "        1.8705, 1.6548, 2.4509, 2.4557, 1.5856, 1.4926, 1.5051, 3.0860, 2.0310,\n",
       "        1.7126, 2.4105, 2.5827, 2.6758, 1.6631, 2.9757, 2.4094, 2.0377, 2.2674,\n",
       "        2.6379, 1.5140, 2.1249, 1.5115, 2.1895, 2.1939, 2.2834, 2.5565, 2.5221,\n",
       "        1.4115, 2.4250, 3.0849, 1.3808, 2.9790, 1.5485, 1.7813, 1.6944, 1.9209,\n",
       "        1.8225, 2.4753, 1.6584, 2.6736, 2.8690, 2.2874, 2.8011, 1.7057, 1.5766,\n",
       "        1.7388, 2.1430, 1.9337, 1.4727, 2.5674, 2.7453, 1.3886, 2.1579, 2.2048,\n",
       "        2.7977, 1.5959, 2.4958, 2.0643, 2.0475, 1.7889, 1.7149, 1.6296, 2.5379,\n",
       "        2.7414, 2.0819, 1.5858, 2.1011, 1.3161, 2.6764, 2.5027, 2.0889, 1.4963,\n",
       "        2.1003, 2.3869, 2.3383, 2.6967, 2.5413, 3.0339, 1.4883, 2.6273, 2.0255,\n",
       "        1.9482, 2.1095, 2.1177, 2.1336, 2.1892, 1.6260, 1.6372, 1.6956, 1.7311,\n",
       "        1.4411, 2.0823, 1.9801, 2.6603, 2.3498, 2.2770, 1.3304, 3.2866, 1.6820,\n",
       "        1.5254, 1.7178, 3.5627, 2.4702, 1.7178, 2.3766, 1.4102, 3.1652, 1.9084,\n",
       "        2.9039, 1.4116, 2.1910])"
      ]
     },
     "execution_count": 57,
     "metadata": {},
     "output_type": "execute_result"
    }
   ],
   "source": [
    "norms1b.max(dim=0).values/norms1b.min(dim=0).values"
   ]
  },
  {
   "cell_type": "code",
   "execution_count": 88,
   "id": "8b81010d-cbdf-43c6-afb3-4298cb7bfa1a",
   "metadata": {},
   "outputs": [
    {
     "data": {
      "text/plain": [
       "tensor([ 1.0000,  2.1993,  2.0616,  2.0616,  3.0579,  2.0616,  3.0579,  2.0616,\n",
       "         4.4217,  4.4217,  3.2594,  3.0579,  4.4217,  4.4217,  3.2594,  3.0579,\n",
       "         6.3208,  6.3208,  6.3208,  6.3208,  6.3208,  4.4217,  4.4217,  4.4217,\n",
       "         6.3208,  6.3208,  6.3208,  6.3208,  6.3208,  4.4217,  4.4217,  4.4217,\n",
       "         8.9865,  8.9865,  8.9865,  8.9865,  8.9865,  8.9865,  8.9865,  8.9865,\n",
       "         8.9865,  8.6321,  6.3208,  6.3208,  6.3208,  6.3208,  6.3208,  6.3208,\n",
       "         8.9865,  8.9865,  8.9865,  8.9865,  8.9865,  8.9865,  8.9865,  8.9865,\n",
       "         8.9865,  8.6321,  6.3208,  6.3208,  6.3208,  6.3208,  6.3208,  6.3208,\n",
       "        12.7422, 12.7422, 12.7422, 12.7422, 12.7422, 12.7422, 12.7422, 12.7422,\n",
       "        12.7422, 12.7422, 12.7422, 12.7422, 12.7422, 12.7422, 12.7422, 12.7422,\n",
       "        12.7422, 12.7422, 12.7422,  8.9865,  8.9865,  8.9865,  8.9865,  8.9865,\n",
       "         8.9865,  8.9865,  8.9865,  8.9865,  8.9865,  8.9865,  8.9865,  8.9865,\n",
       "        12.7422, 12.7422, 12.7422, 12.7422, 12.7422, 12.7422, 12.7422, 12.7422,\n",
       "        12.7422, 12.7422, 12.7422, 12.7422, 12.7422, 12.7422, 12.7422, 12.7422,\n",
       "        12.7422, 12.7422, 12.7422,  8.9865,  8.9865,  8.9865,  8.9865,  8.9865,\n",
       "         8.9865,  8.9865,  8.9865,  8.9865,  8.9865,  8.9865,  8.9865,  8.9865,\n",
       "        18.0240])"
      ]
     },
     "execution_count": 88,
     "metadata": {},
     "output_type": "execute_result"
    }
   ],
   "source": [
    "norms2b[:2428].max(dim=0).values/norms2b[:2428].min(dim=0).values"
   ]
  },
  {
   "cell_type": "code",
   "execution_count": 60,
   "id": "233d3e0e-fc3e-41be-bfcc-b1afae48e6f9",
   "metadata": {},
   "outputs": [
    {
     "data": {
      "text/plain": [
       "tensor(1.2600)"
      ]
     },
     "execution_count": 60,
     "metadata": {},
     "output_type": "execute_result"
    }
   ],
   "source": [
    "(norms1b.max(dim=0).values/norms1b.min(dim=0).values).min()"
   ]
  },
  {
   "cell_type": "code",
   "execution_count": 68,
   "id": "055b7b75-2d62-4746-aec9-061728289103",
   "metadata": {},
   "outputs": [
    {
     "data": {
      "text/plain": [
       "tensor(2.1325)"
      ]
     },
     "execution_count": 68,
     "metadata": {},
     "output_type": "execute_result"
    }
   ],
   "source": [
    "(norms1b.max(dim=0).values/norms1b.min(dim=0).values).mean()"
   ]
  },
  {
   "cell_type": "code",
   "execution_count": 61,
   "id": "ce1fe449-d83c-4a1e-8819-16ba1d56a1c7",
   "metadata": {},
   "outputs": [
    {
     "data": {
      "text/plain": [
       "tensor(3.5627)"
      ]
     },
     "execution_count": 61,
     "metadata": {},
     "output_type": "execute_result"
    }
   ],
   "source": [
    "(norms1b.max(dim=0).values/norms1b.min(dim=0).values).max()"
   ]
  },
  {
   "cell_type": "code",
   "execution_count": 63,
   "id": "31f19520-8343-4849-96ab-26858a3e8a8f",
   "metadata": {},
   "outputs": [],
   "source": [
    "torch.save(norms1b, \"norms1b.pt\")"
   ]
  },
  {
   "cell_type": "markdown",
   "id": "0b941afb-a927-4742-8a59-f481edb19433",
   "metadata": {},
   "source": [
    "# Frequency aware norm sqrt"
   ]
  },
  {
   "cell_type": "code",
   "execution_count": 89,
   "id": "b5082796-4259-443d-b24a-22f66e9be3e2",
   "metadata": {},
   "outputs": [],
   "source": [
    "def frequency_aware_norm(haar_representation: torch.Tensor, j: int):\n",
    "    n = 2\n",
    "    for i in range(1,j):\n",
    "        for k in range(2**i):\n",
    "            haar_representation[n+k] /= 2**(i/2)\n",
    "        n = n+k+1\n",
    "    return torch.norm(haar_representation, dim=0)"
   ]
  },
  {
   "cell_type": "code",
   "execution_count": 90,
   "id": "b168270c-bc49-4aa3-87c3-472f45807842",
   "metadata": {},
   "outputs": [],
   "source": [
    "j = 10"
   ]
  },
  {
   "cell_type": "code",
   "execution_count": 91,
   "id": "c083ac4b-844a-404b-9e62-def310a891dd",
   "metadata": {},
   "outputs": [
    {
     "name": "stderr",
     "output_type": "stream",
     "text": [
      "100%|██████████| 1024/1024 [00:09<00:00, 105.45it/s]\n"
     ]
    }
   ],
   "source": [
    "v = norm_vec(j, 9)\n",
    "norms1 = torch.zeros(2**j, 9)\n",
    "H = norm_haar_matrix(j,0)\n",
    "for shift in tqdm(range(2**j)):\n",
    "    pixel = torch.einsum(\"a b, b n -> a n\", H.T, v)\n",
    "    haar_representation = torch.einsum(\"a b, b n -> a n\", H.roll(shift, dims=1), pixel)\n",
    "    norms1[shift] = frequency_aware_norm(haar_representation, j)"
   ]
  },
  {
   "cell_type": "code",
   "execution_count": 95,
   "id": "49c08388-a05c-4bb8-a2fe-c179d4b85284",
   "metadata": {},
   "outputs": [
    {
     "name": "stderr",
     "output_type": "stream",
     "text": [
      "100%|██████████| 1024/1024 [00:10<00:00, 97.95it/s]\n"
     ]
    }
   ],
   "source": [
    "v = one_vec(j, 17)\n",
    "norms2 = torch.zeros(2**j, 17)\n",
    "H = norm_haar_matrix(j,0)\n",
    "for shift in tqdm(range(2**j)):\n",
    "    pixel = torch.einsum(\"a b, b n -> a n\", H.T, v)\n",
    "    haar_representation = torch.einsum(\"a b, b n -> a n\", H.roll(shift, dims=1), pixel)\n",
    "    norms2[shift] = frequency_aware_norm(haar_representation, j)"
   ]
  },
  {
   "cell_type": "code",
   "execution_count": 93,
   "id": "003bf3b0-cd32-474f-982e-16a78ad8f675",
   "metadata": {},
   "outputs": [
    {
     "data": {
      "text/plain": [
       "tensor([1.3020, 1.1610, 1.2655, 1.1664, 1.1568, 1.2649, 1.2955, 1.2952, 1.2308])"
      ]
     },
     "execution_count": 93,
     "metadata": {},
     "output_type": "execute_result"
    }
   ],
   "source": [
    "norms1.max(dim=0).values/norms1.min(dim=0).values"
   ]
  },
  {
   "cell_type": "code",
   "execution_count": 96,
   "id": "4882bbfc-3b2b-4165-9979-ee20d6baa63a",
   "metadata": {},
   "outputs": [
    {
     "data": {
      "text/plain": [
       "tensor([1.0000, 1.5769, 1.5667, 1.5667, 1.8089, 1.8089, 1.8089, 1.8089, 2.0220,\n",
       "        2.0220, 2.0220, 2.0220, 2.0220, 2.0220, 2.0220, 2.0220, 2.2135])"
      ]
     },
     "execution_count": 96,
     "metadata": {},
     "output_type": "execute_result"
    }
   ],
   "source": [
    "norms2.max(dim=0).values/norms2.min(dim=0).values"
   ]
  },
  {
   "cell_type": "markdown",
   "id": "aab2e4ab-848d-4501-85b2-6fdf460cd92f",
   "metadata": {},
   "source": [
    "## Does sparsity translate across shifts?"
   ]
  },
  {
   "cell_type": "code",
   "execution_count": 7,
   "id": "51a09572-ef3c-4f35-9b31-97b6a2ffdd1c",
   "metadata": {},
   "outputs": [],
   "source": [
    "j = 10"
   ]
  },
  {
   "cell_type": "code",
   "execution_count": 8,
   "id": "6b12a14a-cd6a-4807-aaa4-28238330ea56",
   "metadata": {},
   "outputs": [],
   "source": [
    "N = 5000"
   ]
  },
  {
   "cell_type": "code",
   "execution_count": 9,
   "id": "45fdcfc3-7f9e-4fb1-9255-2f80b6838712",
   "metadata": {},
   "outputs": [],
   "source": [
    "H_ = norm_haar_matrix(j,0)"
   ]
  },
  {
   "cell_type": "code",
   "execution_count": 10,
   "id": "9b646e83-314c-4eed-adb3-2c4840de58bc",
   "metadata": {},
   "outputs": [
    {
     "name": "stderr",
     "output_type": "stream",
     "text": [
      "100%|██████████| 1024/1024 [00:00<00:00, 1128.84it/s]\n"
     ]
    }
   ],
   "source": [
    "H = torch.stack([H_.roll(i) for i in tqdm(range(2**j))])"
   ]
  },
  {
   "cell_type": "code",
   "execution_count": 11,
   "id": "a7465f57-a7c6-49d4-be75-6a1ae029067e",
   "metadata": {},
   "outputs": [
    {
     "data": {
      "text/plain": [
       "torch.Size([1024, 1024, 1024])"
      ]
     },
     "execution_count": 11,
     "metadata": {},
     "output_type": "execute_result"
    }
   ],
   "source": [
    "H.shape"
   ]
  },
  {
   "cell_type": "code",
   "execution_count": 12,
   "id": "7cdb286e-eeca-479a-b344-cdb301e2625b",
   "metadata": {},
   "outputs": [],
   "source": [
    "def sample_sparse_a(N, j):\n",
    "    a = torch.randn(N,2**j)\n",
    "    n = 2\n",
    "    for i in range(1,j):\n",
    "        for k in range(2**i):\n",
    "            a[:,n+k] /= 2**i\n",
    "        n = n+k+1\n",
    "    return a"
   ]
  },
  {
   "cell_type": "code",
   "execution_count": 13,
   "id": "f8d7fd0e-057d-4e8f-bc72-04bdba8e8607",
   "metadata": {},
   "outputs": [
    {
     "data": {
      "text/plain": [
       "[<matplotlib.lines.Line2D at 0x7fa960034340>]"
      ]
     },
     "execution_count": 13,
     "metadata": {},
     "output_type": "execute_result"
    },
    {
     "data": {
      "image/png": "[encoded data removed]",
      "text/plain": [
       "<Figure size 432x288 with 1 Axes>"
      ]
     },
     "metadata": {
      "needs_background": "light"
     },
     "output_type": "display_data"
    }
   ],
   "source": [
    "plt.yscale(\"log\")\n",
    "plt.plot(torch.sum(sample_sparse_a(N, j)**2, axis=0))"
   ]
  },
  {
   "cell_type": "code",
   "execution_count": 14,
   "id": "dc886bc7-9a3e-4dd6-9979-748d12fcf590",
   "metadata": {},
   "outputs": [],
   "source": [
    "x = torch.einsum(\"b a, n b -> n a\", H_, sample_sparse_a(N,j))"
   ]
  },
  {
   "cell_type": "code",
   "execution_count": 15,
   "id": "b5df8fd6-8ec0-4957-b011-e18698119378",
   "metadata": {},
   "outputs": [],
   "source": [
    "idx = torch.randint(2**j, (N,))"
   ]
  },
  {
   "cell_type": "code",
   "execution_count": 16,
   "id": "d901bb65-7796-4ff5-9433-7764f81e39f8",
   "metadata": {},
   "outputs": [],
   "source": [
    "shifted_a = torch.einsum(\"n a b, n b -> n a\", H[idx], x)"
   ]
  },
  {
   "cell_type": "code",
   "execution_count": 17,
   "id": "ceeb4b06-fe6d-4a37-b36a-a81cd48e0555",
   "metadata": {},
   "outputs": [
    {
     "data": {
      "text/plain": [
       "[<matplotlib.lines.Line2D at 0x7fa9c00afca0>]"
      ]
     },
     "execution_count": 17,
     "metadata": {},
     "output_type": "execute_result"
    },
    {
     "data": {
      "image/png": "[encoded data removed]",
      "text/plain": [
       "<Figure size 432x288 with 1 Axes>"
      ]
     },
     "metadata": {
      "needs_background": "light"
     },
     "output_type": "display_data"
    }
   ],
   "source": [
    "plt.yscale(\"log\")\n",
    "plt.plot(torch.sum(shifted_a**2, axis=0))"
   ]
  },
  {
   "attachments": {
    "8e57fe6b-f269-4544-a167-acde4334fcb3.png": {
     "image/png": "[encoded data removed]"
    }
   },
   "cell_type": "markdown",
   "id": "68df253e-eaef-40d9-9821-b1bf4cf4a669",
   "metadata": {},
   "source": [
    "## Sqrt sparse ![Screen Shot 2021-11-15 at 10.32.19 PM.png](attachment:8e57fe6b-f269-4544-a167-acde4334fcb3.png)"
   ]
  },
  {
   "cell_type": "code",
   "execution_count": 19,
   "id": "5c03ba7e-ce98-45f9-96e2-3510bad5a46a",
   "metadata": {},
   "outputs": [],
   "source": [
    "def sample_sqrt_sparse_a(N, j):\n",
    "    a = torch.randn(N,2**j)\n",
    "    n = 2\n",
    "    for i in range(1,j):\n",
    "        for k in range(2**i):\n",
    "            a[:,n+k] /= 2**(i/2)\n",
    "        n = n+k+1\n",
    "    return a"
   ]
  },
  {
   "cell_type": "code",
   "execution_count": 20,
   "id": "33755e5b-551f-46f8-8ce1-084230783264",
   "metadata": {},
   "outputs": [
    {
     "data": {
      "text/plain": [
       "[<matplotlib.lines.Line2D at 0x7fa9680b7e50>]"
      ]
     },
     "execution_count": 20,
     "metadata": {},
     "output_type": "execute_result"
    },
    {
     "data": {
      "image/png": "[encoded data removed]",
      "text/plain": [
       "<Figure size 432x288 with 1 Axes>"
      ]
     },
     "metadata": {
      "needs_background": "light"
     },
     "output_type": "display_data"
    }
   ],
   "source": [
    "plt.yscale(\"log\")\n",
    "plt.plot(torch.sum(sample_sqrt_sparse_a(N, j)**2, axis=0))"
   ]
  },
  {
   "cell_type": "code",
   "execution_count": 25,
   "id": "83386c74-227f-44f2-9b92-18f7da68b62e",
   "metadata": {},
   "outputs": [],
   "source": [
    "x = torch.einsum(\"b a, n b -> n a\", H_, sample_sqrt_sparse_a(N,j))"
   ]
  },
  {
   "cell_type": "code",
   "execution_count": 26,
   "id": "dfb07f5c-c8fb-4d94-8464-045a7cdf5ced",
   "metadata": {},
   "outputs": [],
   "source": [
    "idx = torch.randint(2**j, (N,))"
   ]
  },
  {
   "cell_type": "code",
   "execution_count": 27,
   "id": "a5afa8b2-e54d-483e-83fa-7b76aa139d56",
   "metadata": {},
   "outputs": [],
   "source": [
    "shifted_a = torch.einsum(\"n a b, n b -> n a\", H[idx], x)"
   ]
  },
  {
   "cell_type": "code",
   "execution_count": 28,
   "id": "a6bbbba8-181e-4f3d-b7b7-1ce124b27daf",
   "metadata": {},
   "outputs": [
    {
     "data": {
      "text/plain": [
       "[<matplotlib.lines.Line2D at 0x7fa9604214f0>]"
      ]
     },
     "execution_count": 28,
     "metadata": {},
     "output_type": "execute_result"
    },
    {
     "data": {
      "image/png": "[encoded data removed]",
      "text/plain": [
       "<Figure size 432x288 with 1 Axes>"
      ]
     },
     "metadata": {
      "needs_background": "light"
     },
     "output_type": "display_data"
    }
   ],
   "source": [
    "plt.yscale(\"log\")\n",
    "plt.plot(torch.sum(shifted_a**2, axis=0))"
   ]
  }
 ],
 "metadata": {
  "kernelspec": {
   "display_name": "Python 3",
   "language": "python",
   "name": "python3"
  },
  "language_info": {
   "codemirror_mode": {
    "name": "ipython",
    "version": 3
   },
   "file_extension": ".py",
   "mimetype": "text/x-python",
   "name": "python",
   "nbconvert_exporter": "python",
   "pygments_lexer": "ipython3",
   "version": "3.8.8"
  }
 },
 "nbformat": 4,
 "nbformat_minor": 5
}
